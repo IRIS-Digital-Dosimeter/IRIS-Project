{
 "cells": [
  {
   "cell_type": "markdown",
   "metadata": {},
   "source": [
    "# First look at MDA Testing"
   ]
  },
  {
   "cell_type": "code",
   "execution_count": null,
   "metadata": {},
   "outputs": [],
   "source": [
    "import os\n",
    "import pandas as pd\n",
    "from scripts.analysis_one_pin import analyze, quickLook\n",
    "\n",
    "directory_path = 'data/'\n",
    "\n",
    "# Initialize an empty list to store dictionaries for each file\n",
    "all_dictionaries = []\n",
    "\n",
    "for filename in os.listdir(directory_path):\n",
    "    root, extension = os.path.splitext(filename)\n",
    "    if extension.lower() == \".txt\":\n",
    "        file_path = os.path.join(directory_path, filename)\n",
    "\n",
    "        # Apply analyze function and get the resulting dictionary\n",
    "        result_dict = analyze(file_path,prints=True, gap_sizeL_us= 1000)\n",
    "        quickLook(file_path)\n",
    "\n",
    "        # Add a key-value pair for the filename in the dictionary\n",
    "        result_dict['Filename'] = filename\n",
    "        # Move File name to 1st entry\n",
    "        result_dict = {'Filename': filename, **result_dict}\n",
    "\n",
    "        # Append the modified dictionary to the list\n",
    "        all_dictionaries.append(result_dict)\n",
    "\n",
    "# Create a DataFrame directly from the list of dictionaries\n",
    "df = pd.DataFrame(all_dictionaries).transpose()\n",
    "df"
   ]
  }
 ],
 "metadata": {
  "kernelspec": {
   "display_name": ".venv",
   "language": "python",
   "name": "python3"
  },
  "language_info": {
   "codemirror_mode": {
    "name": "ipython",
    "version": 3
   },
   "file_extension": ".py",
   "mimetype": "text/x-python",
   "name": "python",
   "nbconvert_exporter": "python",
   "pygments_lexer": "ipython3",
   "version": "3.10.4"
  },
  "orig_nbformat": 4
 },
 "nbformat": 4,
 "nbformat_minor": 2
}
