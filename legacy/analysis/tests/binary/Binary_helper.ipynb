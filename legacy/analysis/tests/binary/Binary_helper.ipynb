{
 "cells": [
  {
   "cell_type": "code",
   "execution_count": null,
   "metadata": {},
   "outputs": [],
   "source": [
    "''' Wrong '''\n",
    "\n",
    "import struct\n",
    "\n",
    "path = 'data/09020002.DAT' # Update this to the actual path\n",
    "data_points = []\n",
    "\n",
    "with open(path, 'rb') as file: # rb: binary read mode \n",
    "    while True:\n",
    "        data = file.read(2)  # Assuming the data is stored as int16_t (2 bytes)\n",
    "        if not data:\n",
    "            break\n",
    "        value = struct.unpack('<h', data)[0]  # '<' denotes little-endian format, 'h' is int16_t\n",
    "        data_points.append(value)\n",
    "\n",
    "print(\"Data read from file:\", data_points)\n"
   ]
  },
  {
   "cell_type": "code",
   "execution_count": null,
   "metadata": {},
   "outputs": [],
   "source": [
    "\"\"\" Correct \"\"\"\n",
    "\n",
    "import struct\n",
    "\n",
    "path = 'data/09020002.DAT' # Update this to the actual path\n",
    "data_points = []\n",
    "\n",
    "with open(path, 'rb') as file: # rb: binary read mode \n",
    "    while True:\n",
    "        data = file.read(4)  # Assuming the data is stored as int16_t (2 bytes)\n",
    "        if not data:\n",
    "            break\n",
    "        value = struct.unpack('<I', data)[0]  # '<' denotes little-endian format, 'h' is int16_t\n",
    "        data_points.append(value)\n",
    "\n",
    "print(\"Data read from file:\", data_points)\n"
   ]
  },
  {
   "cell_type": "code",
   "execution_count": null,
   "metadata": {},
   "outputs": [],
   "source": [
    "import struct\n",
    "\n",
    "def read_binary_file(file_path, num_bytes):\n",
    "    with open(file_path, 'rb') as file:\n",
    "        data = file.read(num_bytes)\n",
    "    return data\n",
    "\n",
    "# Replace 'your_binary_file.dat' with the actual file path\n",
    "file_path = path\n",
    "header_size = 8*3  # Replace with the actual header size in bytes\n",
    "num_bytes_to_read = 16  # Size of a single set of data after the header\n",
    "\n",
    "# Read the specified number of bytes from the binary file after the header\n",
    "binary_data = read_binary_file(file_path, header_size + num_bytes_to_read)\n",
    "\n",
    "# Print the hexadecimal values of the read data\n",
    "hex_values = ' '.join(f'{byte:02X}' for byte in binary_data)\n",
    "print(f'Hexadecimal values of the first {num_bytes_to_read} bytes after the header: {hex_values}')\n",
    "\n",
    "# values = struct.unpack(\"IIII\", binary_data)\n",
    "# values = struct.unpack(f\"{num_bytes_to_read}B\", binary_data)\n",
    "\n",
    "# Manually interpret the data assuming 4-byte (32-bit) values\n",
    "# \"I\": unsigned int \n",
    "\n",
    "\n",
    "for n in range(0,11): \n",
    "    value = struct.unpack(\"I\", binary_data[ 4*n : 4*n + 4])[0]\n",
    "    # print(value)\n",
    "    bin = binary_data[ 4*n : 4*n + 4]\n",
    "    print(bin)\n",
    "\n"
   ]
  },
  {
   "cell_type": "code",
   "execution_count": null,
   "metadata": {},
   "outputs": [],
   "source": [
    "# confirming the analog values: \n",
    "(851/20)*(3.3/4096) # Ground on A0 \n",
    "(40939/20)*(3.3/4096) # Voltage divider on A1 \n"
   ]
  },
  {
   "cell_type": "code",
   "execution_count": null,
   "metadata": {},
   "outputs": [],
   "source": [
    "import struct\n",
    "\n",
    "def read_binary_file(file_path):\n",
    "    with open(file_path, 'rb') as file:\n",
    "        data = file.read()\n",
    "    return data\n",
    "\n",
    "def bytes_to_binary_string(byte_array):\n",
    "    return ''.join(format(byte, '08b') for byte in byte_array)\n",
    "\n",
    "binary = read_binary_file(path)\n",
    "# Print the raw bytes and their hexadecimal values\n",
    "print(f\"Raw bytes: {binary_data}\")\n",
    "print(f\"Hexadecimal values: {' '.join([f'{byte:02X}' for byte in binary_data])}\")\n",
    "\n",
    "# Print the binary representation of each byte\n",
    "binary_string = bytes_to_binary_string(binary_data)\n",
    "print(f\"Binary values: {binary_string}\")"
   ]
  }
 ],
 "metadata": {
  "kernelspec": {
   "display_name": ".venv",
   "language": "python",
   "name": "python3"
  },
  "language_info": {
   "codemirror_mode": {
    "name": "ipython",
    "version": 3
   },
   "file_extension": ".py",
   "mimetype": "text/x-python",
   "name": "python",
   "nbconvert_exporter": "python",
   "pygments_lexer": "ipython3",
   "version": "3.9.0"
  }
 },
 "nbformat": 4,
 "nbformat_minor": 2
}
