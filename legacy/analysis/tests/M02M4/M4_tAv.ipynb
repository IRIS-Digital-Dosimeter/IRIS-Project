{
 "cells": [
  {
   "cell_type": "code",
   "execution_count": null,
   "metadata": {},
   "outputs": [],
   "source": [
    "from scripts.analysis_IRIS import analyze, quickLook\n",
    "import pandas as pd\n",
    "import os\n",
    "\n",
<<<<<<< HEAD
    "directory_path = 'data/M4_tAv/50_50_4/'\n",
=======
    "directory_path = 'data/M4_tLinear/50_50_4/'\n",
>>>>>>> main
    "# Initialize an empty list to store dictionaries for each file\n",
    "all_dictionaries = []\n",
    "\n",
    "for filename in os.listdir(directory_path):\n",
    "    root, extension = os.path.splitext(filename)\n",
    "    if extension.lower() == \".txt\":\n",
    "        file_path = os.path.join(directory_path, filename)\n",
    "\n",
    "        # Apply analyze function and get the resulting dictionary\n",
    "        quickLook(file_path, save_png=False, plot_all=False, plot_hist_sampletime=True)\n",
    "        \n",
    "        result_dict = analyze(file_path,prints=False)\n",
    "\n",
    "        # Add a key-value pair for the filename in the dictionary\n",
    "        result_dict['Filename'] = filename\n",
    "        # Move File name to 1st entry\n",
    "        result_dict = {'Filename': filename, **result_dict}\n",
    "\n",
    "        # Append the modified dictionary to the list\n",
    "        all_dictionaries.append(result_dict)\n",
    "\n",
    "# Create a DataFrame directly from the list of dictionaries\n",
    "df_M4_50_50_4 = pd.DataFrame(all_dictionaries).transpose()\n",
    "df_M4_50_50_4"
   ]
  },
  {
   "cell_type": "code",
   "execution_count": null,
   "metadata": {},
   "outputs": [],
   "source": [
    "from scripts.analysis_IRIS import analyze, quickLook\n",
    "import pandas as pd\n",
    "import os\n",
    "\n",
<<<<<<< HEAD
    "directory_path = 'data/M4_tAv/50_500_20/'\n",
=======
    "directory_path = 'data/M4_tLinear/50_500_20/'\n",
>>>>>>> main
    "# Initialize an empty list to store dictionaries for each file\n",
    "all_dictionaries = []\n",
    "\n",
    "for filename in os.listdir(directory_path):\n",
    "    root, extension = os.path.splitext(filename)\n",
    "    if extension.lower() == \".txt\":\n",
    "        file_path = os.path.join(directory_path, filename)\n",
    "\n",
    "        # Apply analyze function and get the resulting dictionary\n",
    "        quickLook(file_path, save_png=False, plot_all=False, plot_hist_sampletime=True)\n",
    "        \n",
    "        result_dict = analyze(file_path,prints=False)\n",
    "\n",
    "        # Add a key-value pair for the filename in the dictionary\n",
    "        result_dict['Filename'] = filename\n",
    "        # Move File name to 1st entry\n",
    "        result_dict = {'Filename': filename, **result_dict}\n",
    "\n",
    "        # Append the modified dictionary to the list\n",
    "        all_dictionaries.append(result_dict)\n",
    "\n",
    "# Create a DataFrame directly from the list of dictionaries\n",
    "df_M4_50_500_20 = pd.DataFrame(all_dictionaries).transpose()\n",
    "df_M4_50_500_20"
   ]
  },
  {
   "cell_type": "code",
   "execution_count": null,
   "metadata": {},
   "outputs": [],
   "source": [
    "from scripts.analysis_IRIS import analyze, quickLook\n",
    "import pandas as pd\n",
    "import os\n",
    "\n",
<<<<<<< HEAD
    "directory_path = 'data/M4_tAv/50_1500_20/'\n",
=======
    "directory_path = 'data/M4_tLinear/50_1500_20/'\n",
>>>>>>> main
    "# Initialize an empty list to store dictionaries for each file\n",
    "all_dictionaries = []\n",
    "\n",
    "for filename in os.listdir(directory_path):\n",
    "    root, extension = os.path.splitext(filename)\n",
    "    if extension.lower() == \".txt\":\n",
    "        file_path = os.path.join(directory_path, filename)\n",
    "\n",
    "        # Apply analyze function and get the resulting dictionary\n",
    "        quickLook(file_path, save_png=False, plot_all=False, plot_hist_sampletime=True)\n",
    "        \n",
    "        result_dict = analyze(file_path,prints=False)\n",
    "\n",
    "        # Add a key-value pair for the filename in the dictionary\n",
    "        result_dict['Filename'] = filename\n",
    "        # Move File name to 1st entry\n",
    "        result_dict = {'Filename': filename, **result_dict}\n",
    "\n",
    "        # Append the modified dictionary to the list\n",
    "        all_dictionaries.append(result_dict)\n",
    "\n",
    "# Create a DataFrame directly from the list of dictionaries\n",
    "df_M4_50_1500_20 = pd.DataFrame(all_dictionaries).transpose()\n",
    "df_M4_50_1500_20"
   ]
  },
  {
   "cell_type": "code",
   "execution_count": null,
   "metadata": {},
   "outputs": [],
   "source": [
    "result = pd.concat([df_M4_50_50_4,df_M4_50_500_20,df_M4_50_1500_20], axis=1, ignore_index=True)\n",
    "\n",
    "result\n"
   ]
  }
 ],
 "metadata": {
  "kernelspec": {
   "display_name": ".venv",
   "language": "python",
   "name": "python3"
  },
  "language_info": {
   "codemirror_mode": {
    "name": "ipython",
    "version": 3
   },
   "file_extension": ".py",
   "mimetype": "text/x-python",
   "name": "python",
   "nbconvert_exporter": "python",
   "pygments_lexer": "ipython3",
   "version": "3.10.4"
  }
 },
 "nbformat": 4,
 "nbformat_minor": 2
}
